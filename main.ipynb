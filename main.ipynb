{
 "cells": [
  {
   "cell_type": "markdown",
   "source": [
    "Tables:\n",
    "- `accounts` - Facebook public profiles with some data on them\n",
    "- `posts` - posts of these public profiles, you can use the profile_id column to connect to\n",
    "the accounts table\n",
    "- `sources_for_followers` - number of followers for these public profiles"
   ],
   "metadata": {
    "collapsed": false
   },
   "id": "c0b51fc6c73c93da"
  },
  {
   "cell_type": "code",
   "execution_count": 195,
   "outputs": [],
   "source": [
    "import pandas as pd\n",
    "from sqlalchemy import create_engine"
   ],
   "metadata": {
    "collapsed": false,
    "ExecuteTime": {
     "end_time": "2024-10-09T10:18:02.816995Z",
     "start_time": "2024-10-09T10:18:02.736044Z"
    }
   },
   "id": "b02bdd1eb10da8b2"
  },
  {
   "cell_type": "code",
   "execution_count": 196,
   "outputs": [],
   "source": [
    "db_params = {\n",
    "    'host': 'localhost',\n",
    "    'port': 5432,\n",
    "    'database': 'postgres',\n",
    "    'user': 'postgres',\n",
    "    'password': 'postgres_password'\n",
    "}"
   ],
   "metadata": {
    "collapsed": false,
    "ExecuteTime": {
     "end_time": "2024-10-09T10:18:02.818572Z",
     "start_time": "2024-10-09T10:18:02.741759Z"
    }
   },
   "id": "40012e63cef91202"
  },
  {
   "cell_type": "code",
   "execution_count": 197,
   "outputs": [],
   "source": [
    "engine = create_engine(f'postgresql://{db_params[\"user\"]}:{db_params[\"password\"]}@{db_params[\"host\"]}/{db_params[\"database\"]}')"
   ],
   "metadata": {
    "collapsed": false,
    "ExecuteTime": {
     "end_time": "2024-10-09T10:18:02.819614Z",
     "start_time": "2024-10-09T10:18:02.749025Z"
    }
   },
   "id": "afb21022df1cfb6a"
  },
  {
   "cell_type": "code",
   "execution_count": 198,
   "outputs": [],
   "source": [
    "csv_files = {\n",
    "    'accounts': 'datasets/accounts.csv',\n",
    "    'posts': 'datasets/posts.csv',\n",
    "    'sources_for_followers': 'datasets/sources_for_followers.csv'\n",
    "}"
   ],
   "metadata": {
    "collapsed": false,
    "ExecuteTime": {
     "end_time": "2024-10-09T10:18:02.819882Z",
     "start_time": "2024-10-09T10:18:02.754695Z"
    }
   },
   "id": "297389bfbeb8fa2d"
  },
  {
   "cell_type": "code",
   "execution_count": 199,
   "outputs": [],
   "source": [
    "for table_name, file_path in csv_files.items():\n",
    "    df = pd.read_csv(file_path)\n",
    "    df.to_sql(table_name, engine, if_exists='replace', index=False)"
   ],
   "metadata": {
    "collapsed": false,
    "ExecuteTime": {
     "end_time": "2024-10-09T10:18:02.943845Z",
     "start_time": "2024-10-09T10:18:02.766682Z"
    }
   },
   "id": "3f91d68bd92a9df9"
  },
  {
   "cell_type": "markdown",
   "source": [
    "Let's see the info of every table."
   ],
   "metadata": {
    "collapsed": false
   },
   "id": "c1c87f88e2dd018f"
  },
  {
   "cell_type": "code",
   "execution_count": 200,
   "outputs": [
    {
     "name": "stdout",
     "output_type": "stream",
     "text": [
      "Information about accounts table:\n",
      "<class 'pandas.core.frame.DataFrame'>\n",
      "RangeIndex: 30 entries, 0 to 29\n",
      "Data columns (total 9 columns):\n",
      " #   Column       Non-Null Count  Dtype  \n",
      "---  ------       --------------  -----  \n",
      " 0   id           30 non-null     int64  \n",
      " 1   username     28 non-null     object \n",
      " 2   full_name    30 non-null     object \n",
      " 3   description  28 non-null     object \n",
      " 4   is_verified  27 non-null     object \n",
      " 5   restricted   0 non-null      object \n",
      " 6   _id          30 non-null     int64  \n",
      " 7   _status      30 non-null     object \n",
      " 8   id_alt       3 non-null      float64\n",
      "dtypes: float64(1), int64(2), object(6)\n",
      "memory usage: 2.2+ KB\n",
      "None \n",
      "\n",
      "Information about posts table:\n",
      "<class 'pandas.core.frame.DataFrame'>\n",
      "RangeIndex: 1138 entries, 0 to 1137\n",
      "Data columns (total 5 columns):\n",
      " #   Column          Non-Null Count  Dtype \n",
      "---  ------          --------------  ----- \n",
      " 0   id              1138 non-null   int64 \n",
      " 1   created_time    1138 non-null   object\n",
      " 2   profile_id      1138 non-null   int64 \n",
      " 3   text_original   1138 non-null   object\n",
      " 4   comments_count  1138 non-null   int64 \n",
      "dtypes: int64(3), object(2)\n",
      "memory usage: 44.6+ KB\n",
      "None \n",
      "\n",
      "Information about sources_for_followers table:\n",
      "<class 'pandas.core.frame.DataFrame'>\n",
      "RangeIndex: 30 entries, 0 to 29\n",
      "Data columns (total 2 columns):\n",
      " #   Column           Non-Null Count  Dtype\n",
      "---  ------           --------------  -----\n",
      " 0   _id              30 non-null     int64\n",
      " 1   followers_count  30 non-null     int64\n",
      "dtypes: int64(2)\n",
      "memory usage: 612.0 bytes\n",
      "None \n"
     ]
    }
   ],
   "source": [
    "for table_name in csv_files.keys():\n",
    "    query = f\"\"\"SELECT *              \n",
    "               FROM {table_name};\"\"\"\n",
    "    table = pd.read_sql(query, engine)\n",
    "    print(f'Information about {table_name} table:')\n",
    "    print(table.info(), '\\n')"
   ],
   "metadata": {
    "collapsed": false,
    "ExecuteTime": {
     "end_time": "2024-10-09T10:18:02.965885Z",
     "start_time": "2024-10-09T10:18:02.942775Z"
    }
   },
   "id": "1c6418fd2861725c"
  },
  {
   "cell_type": "markdown",
   "source": [
    "The `accounts` table contains 30 records, with some columns having missing values, and the `restricted` column being entirely empty.\n",
    "The `posts` table consists of 1138 records, with all fields fully populated.\n",
    "The `sources_for_followers` table contains 30 records, with all fields fully populated.\n",
    "\n",
    "We will analyze these tables in more detail later."
   ],
   "metadata": {
    "collapsed": false
   },
   "id": "cde45f8eef7ee11c"
  },
  {
   "cell_type": "markdown",
   "source": [
    "Let's check if we can match all records by account id."
   ],
   "metadata": {
    "collapsed": false
   },
   "id": "4ba3134821fe5be0"
  },
  {
   "cell_type": "code",
   "execution_count": 201,
   "outputs": [
    {
     "name": "stdout",
     "output_type": "stream",
     "text": [
      "   count\n",
      "0    120\n"
     ]
    }
   ],
   "source": [
    "query = \"\"\"SELECT COUNT(*)        \n",
    "           FROM accounts AS a\n",
    "           FULL JOIN sources_for_followers AS s\n",
    "           ON a._id = s._id\n",
    "           FULL JOIN posts as p\n",
    "           ON a.id = p.profile_id\n",
    "           WHERE a.id IS NULL OR s._id is NULL OR p.id IS NULL;\"\"\"\n",
    "print(pd.read_sql(query, engine))"
   ],
   "metadata": {
    "collapsed": false,
    "ExecuteTime": {
     "end_time": "2024-10-09T10:18:02.993535Z",
     "start_time": "2024-10-09T10:18:02.963757Z"
    }
   },
   "id": "f2d770562a088280"
  },
  {
   "cell_type": "markdown",
   "source": [
    "After merging, we have 120 records where either the account id or post id is missing, or the account ID comes from the `sources_for_followers` table.\n",
    "\n",
    "Let's see if each account has details about its follower count."
   ],
   "metadata": {
    "collapsed": false
   },
   "id": "6a07576f7acecff"
  },
  {
   "cell_type": "code",
   "execution_count": 202,
   "outputs": [
    {
     "name": "stdout",
     "output_type": "stream",
     "text": [
      "   count\n",
      "0      0\n"
     ]
    }
   ],
   "source": [
    "query = \"\"\"SELECT COUNT(*)              \n",
    "           FROM accounts\n",
    "           LEFT JOIN sources_for_followers\n",
    "           USING(_id)\n",
    "           WHERE followers_count IS NULL;\"\"\"\n",
    "print(pd.read_sql(query, engine))"
   ],
   "metadata": {
    "collapsed": false,
    "ExecuteTime": {
     "end_time": "2024-10-09T10:18:02.994255Z",
     "start_time": "2024-10-09T10:18:02.970070Z"
    }
   },
   "id": "75c70665cb24ea61"
  },
  {
   "cell_type": "markdown",
   "source": [
    "We need to check if we have information on all post authors."
   ],
   "metadata": {
    "collapsed": false
   },
   "id": "b1cfc5fe4c4dcc9a"
  },
  {
   "cell_type": "code",
   "execution_count": 203,
   "outputs": [
    {
     "name": "stdout",
     "output_type": "stream",
     "text": [
      "         profile_id\n",
      "0   100064141090703\n",
      "1  2212856535602171\n",
      "2   100064478088503\n"
     ]
    }
   ],
   "source": [
    "query = \"\"\"SELECT DISTINCT profile_id       \n",
    "           FROM posts AS p\n",
    "           LEFT JOIN accounts AS a\n",
    "           ON p.profile_id = a.id\n",
    "           WHERE a.id IS NULL;\"\"\"\n",
    "print(pd.read_sql(query, engine))"
   ],
   "metadata": {
    "collapsed": false,
    "ExecuteTime": {
     "end_time": "2024-10-09T10:18:02.994489Z",
     "start_time": "2024-10-09T10:18:02.975437Z"
    }
   },
   "id": "40139af3cd1d6b63"
  },
  {
   "cell_type": "markdown",
   "source": [
    "We have three post authors missing from the `accounts` table. However, the `accounts` table includes a column called `id_alt`, so let's check if we can use this column.\n"
   ],
   "metadata": {
    "collapsed": false
   },
   "id": "8f33ad2a8231705c"
  },
  {
   "cell_type": "code",
   "execution_count": 204,
   "outputs": [
    {
     "name": "stdout",
     "output_type": "stream",
     "text": [
      "             id_alt\n",
      "0   100064141090703\n",
      "1  2212856535602171\n",
      "2   100064478088503\n"
     ]
    }
   ],
   "source": [
    "query = \"\"\"SELECT id_alt        \n",
    "           FROM accounts AS a\n",
    "           WHERE id_alt IS NOT NULL;\"\"\"\n",
    "print(pd.read_sql(query, engine).astype(int))"
   ],
   "metadata": {
    "collapsed": false,
    "ExecuteTime": {
     "end_time": "2024-10-09T10:18:02.994573Z",
     "start_time": "2024-10-09T10:18:02.979985Z"
    }
   },
   "id": "a2b1291e905fff68"
  },
  {
   "cell_type": "markdown",
   "source": [
    "Now we can merge all our data, keeping the result for future analysis."
   ],
   "metadata": {
    "collapsed": false
   },
   "id": "581cbdca2e6541ab"
  },
  {
   "cell_type": "code",
   "execution_count": 205,
   "outputs": [],
   "source": [
    "query = \"\"\"SELECT p.profile_id, a.*, s.followers_count, p.id AS post_id, p.created_time AS post_created_time, \n",
    "                  p.text_original AS post_text, p.comments_count\n",
    "           FROM accounts AS a\n",
    "           LEFT JOIN sources_for_followers AS s\n",
    "           ON a._id = s._id\n",
    "           LEFT JOIN posts as p\n",
    "           ON a.id = p.profile_id OR a.id_alt = p.profile_id;\"\"\"\n",
    "accounts_with_posts_data = pd.read_sql(query, engine)"
   ],
   "metadata": {
    "collapsed": false,
    "ExecuteTime": {
     "end_time": "2024-10-09T10:18:03.001471Z",
     "start_time": "2024-10-09T10:18:02.984330Z"
    }
   },
   "id": "ae58ac25011d9f0"
  },
  {
   "cell_type": "markdown",
   "source": [
    "Let's analyze what data we have."
   ],
   "metadata": {
    "collapsed": false
   },
   "id": "a4468f023b74410d"
  },
  {
   "cell_type": "code",
   "execution_count": 206,
   "outputs": [
    {
     "data": {
      "text/plain": "        profile_id               id    username   full_name  \\\n0  100063695660293  100063695660293  ukraina.ru  Украина.ру   \n1  100063695660293  100063695660293  ukraina.ru  Украина.ру   \n2  100063695660293  100063695660293  ukraina.ru  Украина.ру   \n3  100063695660293  100063695660293  ukraina.ru  Украина.ру   \n4  100063695660293  100063695660293  ukraina.ru  Украина.ру   \n\n                                        description is_verified restricted  \\\n0  Информационно-аналитическое издание «Украина.ру»       False       None   \n1  Информационно-аналитическое издание «Украина.ру»       False       None   \n2  Информационно-аналитическое издание «Украина.ру»       False       None   \n3  Информационно-аналитическое издание «Украина.ру»       False       None   \n4  Информационно-аналитическое издание «Украина.ру»       False       None   \n\n   _id     _status  id_alt  followers_count          post_id  \\\n0  378  downloaded     NaN            38000  965760471089655   \n1  378  downloaded     NaN            38000  979082653090770   \n2  378  downloaded     NaN            38000  965077954491240   \n3  378  downloaded     NaN            38000  964575337874835   \n4  378  downloaded     NaN            38000  978371336495235   \n\n        post_created_time                                          post_text  \\\n0  2023-04-04 12:30:08+00  Emil Berdeli: Gușă a fost singurul dintre jurn...   \n1  2023-04-23 18:15:18+00  Adrian Papahagi anunță pe pagina sa de Faceboo...   \n2  2023-04-03 12:27:58+00  Am vizitat ieri un targ al refugiatilor ucrain...   \n3  2023-04-02 16:06:21+00  Azi se implinesc 19 ani de la aderarea Romanie...   \n4  2023-04-22 15:37:57+00  Adrian Papahagi: Există limite în orice. Acest...   \n\n   comments_count  \n0               3  \n1              36  \n2              24  \n3               1  \n4               2  ",
      "text/html": "<div>\n<style scoped>\n    .dataframe tbody tr th:only-of-type {\n        vertical-align: middle;\n    }\n\n    .dataframe tbody tr th {\n        vertical-align: top;\n    }\n\n    .dataframe thead th {\n        text-align: right;\n    }\n</style>\n<table border=\"1\" class=\"dataframe\">\n  <thead>\n    <tr style=\"text-align: right;\">\n      <th></th>\n      <th>profile_id</th>\n      <th>id</th>\n      <th>username</th>\n      <th>full_name</th>\n      <th>description</th>\n      <th>is_verified</th>\n      <th>restricted</th>\n      <th>_id</th>\n      <th>_status</th>\n      <th>id_alt</th>\n      <th>followers_count</th>\n      <th>post_id</th>\n      <th>post_created_time</th>\n      <th>post_text</th>\n      <th>comments_count</th>\n    </tr>\n  </thead>\n  <tbody>\n    <tr>\n      <th>0</th>\n      <td>100063695660293</td>\n      <td>100063695660293</td>\n      <td>ukraina.ru</td>\n      <td>Украина.ру</td>\n      <td>Информационно-аналитическое издание «Украина.ру»</td>\n      <td>False</td>\n      <td>None</td>\n      <td>378</td>\n      <td>downloaded</td>\n      <td>NaN</td>\n      <td>38000</td>\n      <td>965760471089655</td>\n      <td>2023-04-04 12:30:08+00</td>\n      <td>Emil Berdeli: Gușă a fost singurul dintre jurn...</td>\n      <td>3</td>\n    </tr>\n    <tr>\n      <th>1</th>\n      <td>100063695660293</td>\n      <td>100063695660293</td>\n      <td>ukraina.ru</td>\n      <td>Украина.ру</td>\n      <td>Информационно-аналитическое издание «Украина.ру»</td>\n      <td>False</td>\n      <td>None</td>\n      <td>378</td>\n      <td>downloaded</td>\n      <td>NaN</td>\n      <td>38000</td>\n      <td>979082653090770</td>\n      <td>2023-04-23 18:15:18+00</td>\n      <td>Adrian Papahagi anunță pe pagina sa de Faceboo...</td>\n      <td>36</td>\n    </tr>\n    <tr>\n      <th>2</th>\n      <td>100063695660293</td>\n      <td>100063695660293</td>\n      <td>ukraina.ru</td>\n      <td>Украина.ру</td>\n      <td>Информационно-аналитическое издание «Украина.ру»</td>\n      <td>False</td>\n      <td>None</td>\n      <td>378</td>\n      <td>downloaded</td>\n      <td>NaN</td>\n      <td>38000</td>\n      <td>965077954491240</td>\n      <td>2023-04-03 12:27:58+00</td>\n      <td>Am vizitat ieri un targ al refugiatilor ucrain...</td>\n      <td>24</td>\n    </tr>\n    <tr>\n      <th>3</th>\n      <td>100063695660293</td>\n      <td>100063695660293</td>\n      <td>ukraina.ru</td>\n      <td>Украина.ру</td>\n      <td>Информационно-аналитическое издание «Украина.ру»</td>\n      <td>False</td>\n      <td>None</td>\n      <td>378</td>\n      <td>downloaded</td>\n      <td>NaN</td>\n      <td>38000</td>\n      <td>964575337874835</td>\n      <td>2023-04-02 16:06:21+00</td>\n      <td>Azi se implinesc 19 ani de la aderarea Romanie...</td>\n      <td>1</td>\n    </tr>\n    <tr>\n      <th>4</th>\n      <td>100063695660293</td>\n      <td>100063695660293</td>\n      <td>ukraina.ru</td>\n      <td>Украина.ру</td>\n      <td>Информационно-аналитическое издание «Украина.ру»</td>\n      <td>False</td>\n      <td>None</td>\n      <td>378</td>\n      <td>downloaded</td>\n      <td>NaN</td>\n      <td>38000</td>\n      <td>978371336495235</td>\n      <td>2023-04-22 15:37:57+00</td>\n      <td>Adrian Papahagi: Există limite în orice. Acest...</td>\n      <td>2</td>\n    </tr>\n  </tbody>\n</table>\n</div>"
     },
     "execution_count": 206,
     "metadata": {},
     "output_type": "execute_result"
    }
   ],
   "source": [
    "accounts_with_posts_data.head()"
   ],
   "metadata": {
    "collapsed": false,
    "ExecuteTime": {
     "end_time": "2024-10-09T10:18:03.006518Z",
     "start_time": "2024-10-09T10:18:03.003234Z"
    }
   },
   "id": "8c39d3ea279b0432"
  },
  {
   "cell_type": "markdown",
   "source": [
    "During the overview, we observed that the `restricted` column is completely empty, the `_status` column contains the same value in all rows, and the `_id` column does not provide any meaningful information. Therefore, we can remove these columns. We will also remove `id` and `id_alt`, leaving only `profile_i`d as the account identifier."
   ],
   "metadata": {
    "collapsed": false
   },
   "id": "1f1920a1c0a3b37a"
  },
  {
   "cell_type": "code",
   "execution_count": 207,
   "outputs": [],
   "source": [
    "columns_to_drop = ['_id', 'restricted', '_status', 'id', 'id_alt']\n",
    "accounts_with_posts_data = accounts_with_posts_data.drop(columns=columns_to_drop)"
   ],
   "metadata": {
    "collapsed": false,
    "ExecuteTime": {
     "end_time": "2024-10-09T10:18:03.041180Z",
     "start_time": "2024-10-09T10:18:03.007757Z"
    }
   },
   "id": "783c73959d7cbe86"
  },
  {
   "cell_type": "code",
   "execution_count": 208,
   "outputs": [
    {
     "data": {
      "text/plain": "        profile_id    username   full_name  \\\n0  100063695660293  ukraina.ru  Украина.ру   \n1  100063695660293  ukraina.ru  Украина.ру   \n2  100063695660293  ukraina.ru  Украина.ру   \n3  100063695660293  ukraina.ru  Украина.ру   \n4  100063695660293  ukraina.ru  Украина.ру   \n\n                                        description is_verified  \\\n0  Информационно-аналитическое издание «Украина.ру»       False   \n1  Информационно-аналитическое издание «Украина.ру»       False   \n2  Информационно-аналитическое издание «Украина.ру»       False   \n3  Информационно-аналитическое издание «Украина.ру»       False   \n4  Информационно-аналитическое издание «Украина.ру»       False   \n\n   followers_count          post_id       post_created_time  \\\n0            38000  965760471089655  2023-04-04 12:30:08+00   \n1            38000  979082653090770  2023-04-23 18:15:18+00   \n2            38000  965077954491240  2023-04-03 12:27:58+00   \n3            38000  964575337874835  2023-04-02 16:06:21+00   \n4            38000  978371336495235  2023-04-22 15:37:57+00   \n\n                                           post_text  comments_count  \n0  Emil Berdeli: Gușă a fost singurul dintre jurn...               3  \n1  Adrian Papahagi anunță pe pagina sa de Faceboo...              36  \n2  Am vizitat ieri un targ al refugiatilor ucrain...              24  \n3  Azi se implinesc 19 ani de la aderarea Romanie...               1  \n4  Adrian Papahagi: Există limite în orice. Acest...               2  ",
      "text/html": "<div>\n<style scoped>\n    .dataframe tbody tr th:only-of-type {\n        vertical-align: middle;\n    }\n\n    .dataframe tbody tr th {\n        vertical-align: top;\n    }\n\n    .dataframe thead th {\n        text-align: right;\n    }\n</style>\n<table border=\"1\" class=\"dataframe\">\n  <thead>\n    <tr style=\"text-align: right;\">\n      <th></th>\n      <th>profile_id</th>\n      <th>username</th>\n      <th>full_name</th>\n      <th>description</th>\n      <th>is_verified</th>\n      <th>followers_count</th>\n      <th>post_id</th>\n      <th>post_created_time</th>\n      <th>post_text</th>\n      <th>comments_count</th>\n    </tr>\n  </thead>\n  <tbody>\n    <tr>\n      <th>0</th>\n      <td>100063695660293</td>\n      <td>ukraina.ru</td>\n      <td>Украина.ру</td>\n      <td>Информационно-аналитическое издание «Украина.ру»</td>\n      <td>False</td>\n      <td>38000</td>\n      <td>965760471089655</td>\n      <td>2023-04-04 12:30:08+00</td>\n      <td>Emil Berdeli: Gușă a fost singurul dintre jurn...</td>\n      <td>3</td>\n    </tr>\n    <tr>\n      <th>1</th>\n      <td>100063695660293</td>\n      <td>ukraina.ru</td>\n      <td>Украина.ру</td>\n      <td>Информационно-аналитическое издание «Украина.ру»</td>\n      <td>False</td>\n      <td>38000</td>\n      <td>979082653090770</td>\n      <td>2023-04-23 18:15:18+00</td>\n      <td>Adrian Papahagi anunță pe pagina sa de Faceboo...</td>\n      <td>36</td>\n    </tr>\n    <tr>\n      <th>2</th>\n      <td>100063695660293</td>\n      <td>ukraina.ru</td>\n      <td>Украина.ру</td>\n      <td>Информационно-аналитическое издание «Украина.ру»</td>\n      <td>False</td>\n      <td>38000</td>\n      <td>965077954491240</td>\n      <td>2023-04-03 12:27:58+00</td>\n      <td>Am vizitat ieri un targ al refugiatilor ucrain...</td>\n      <td>24</td>\n    </tr>\n    <tr>\n      <th>3</th>\n      <td>100063695660293</td>\n      <td>ukraina.ru</td>\n      <td>Украина.ру</td>\n      <td>Информационно-аналитическое издание «Украина.ру»</td>\n      <td>False</td>\n      <td>38000</td>\n      <td>964575337874835</td>\n      <td>2023-04-02 16:06:21+00</td>\n      <td>Azi se implinesc 19 ani de la aderarea Romanie...</td>\n      <td>1</td>\n    </tr>\n    <tr>\n      <th>4</th>\n      <td>100063695660293</td>\n      <td>ukraina.ru</td>\n      <td>Украина.ру</td>\n      <td>Информационно-аналитическое издание «Украина.ру»</td>\n      <td>False</td>\n      <td>38000</td>\n      <td>978371336495235</td>\n      <td>2023-04-22 15:37:57+00</td>\n      <td>Adrian Papahagi: Există limite în orice. Acest...</td>\n      <td>2</td>\n    </tr>\n  </tbody>\n</table>\n</div>"
     },
     "execution_count": 208,
     "metadata": {},
     "output_type": "execute_result"
    }
   ],
   "source": [
    "accounts_with_posts_data.head()"
   ],
   "metadata": {
    "collapsed": false,
    "ExecuteTime": {
     "end_time": "2024-10-09T10:18:03.041893Z",
     "start_time": "2024-10-09T10:18:03.009751Z"
    }
   },
   "id": "5de74473c527a5a3"
  },
  {
   "cell_type": "code",
   "execution_count": 208,
   "outputs": [],
   "source": [],
   "metadata": {
    "collapsed": false,
    "ExecuteTime": {
     "end_time": "2024-10-09T10:18:03.042144Z",
     "start_time": "2024-10-09T10:18:03.016581Z"
    }
   },
   "id": "a265b55e41a2b7e5"
  }
 ],
 "metadata": {
  "kernelspec": {
   "display_name": "Python 3",
   "language": "python",
   "name": "python3"
  },
  "language_info": {
   "codemirror_mode": {
    "name": "ipython",
    "version": 2
   },
   "file_extension": ".py",
   "mimetype": "text/x-python",
   "name": "python",
   "nbconvert_exporter": "python",
   "pygments_lexer": "ipython2",
   "version": "2.7.6"
  }
 },
 "nbformat": 4,
 "nbformat_minor": 5
}
